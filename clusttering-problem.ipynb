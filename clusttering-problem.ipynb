{
 "cells": [
  {
   "cell_type": "code",
   "execution_count": 1,
   "id": "1da9a7b8",
   "metadata": {
    "_cell_guid": "b1076dfc-b9ad-4769-8c92-a6c4dae69d19",
    "_uuid": "",
    "execution": {
     "iopub.execute_input": "2022-08-28T10:42:46.917655Z",
     "iopub.status.busy": "2022-08-28T10:42:46.916427Z",
     "iopub.status.idle": "2022-08-28T10:42:48.300798Z",
     "shell.execute_reply": "2022-08-28T10:42:48.299583Z"
    },
    "papermill": {
     "duration": 1.394269,
     "end_time": "2022-08-28T10:42:48.303910",
     "exception": false,
     "start_time": "2022-08-28T10:42:46.909641",
     "status": "completed"
    },
    "tags": []
   },
   "outputs": [],
   "source": [
    "import numpy as np # linear algebra\n",
    "import pandas as pd # data processing, CSV file I/O (e.g. pd.read_csv)\n",
    "from sklearn.preprocessing import OrdinalEncoder\n",
    "from sklearn.preprocessing import MinMaxScaler\n",
    "from sklearn.cluster import KMeans \n",
    "import matplotlib.pyplot as plt \n",
    "from sklearn.metrics.pairwise import euclidean_distances\n",
    "from sklearn.cluster import AgglomerativeClustering \n",
    "from sklearn.cluster import DBSCAN\n",
    "import sklearn.utils"
   ]
  },
  {
   "cell_type": "code",
   "execution_count": 2,
   "id": "a7a39389",
   "metadata": {
    "execution": {
     "iopub.execute_input": "2022-08-28T10:42:48.315316Z",
     "iopub.status.busy": "2022-08-28T10:42:48.314869Z",
     "iopub.status.idle": "2022-08-28T10:42:48.358307Z",
     "shell.execute_reply": "2022-08-28T10:42:48.356977Z"
    },
    "papermill": {
     "duration": 0.053444,
     "end_time": "2022-08-28T10:42:48.361330",
     "exception": false,
     "start_time": "2022-08-28T10:42:48.307886",
     "status": "completed"
    },
    "tags": []
   },
   "outputs": [
    {
     "data": {
      "text/html": [
       "<div>\n",
       "<style scoped>\n",
       "    .dataframe tbody tr th:only-of-type {\n",
       "        vertical-align: middle;\n",
       "    }\n",
       "\n",
       "    .dataframe tbody tr th {\n",
       "        vertical-align: top;\n",
       "    }\n",
       "\n",
       "    .dataframe thead th {\n",
       "        text-align: right;\n",
       "    }\n",
       "</style>\n",
       "<table border=\"1\" class=\"dataframe\">\n",
       "  <thead>\n",
       "    <tr style=\"text-align: right;\">\n",
       "      <th></th>\n",
       "      <th>CustomerID</th>\n",
       "      <th>Gender</th>\n",
       "      <th>Age</th>\n",
       "      <th>Annual Income (k$)</th>\n",
       "      <th>Spending Score (1-100)</th>\n",
       "    </tr>\n",
       "  </thead>\n",
       "  <tbody>\n",
       "    <tr>\n",
       "      <th>195</th>\n",
       "      <td>196</td>\n",
       "      <td>Female</td>\n",
       "      <td>35</td>\n",
       "      <td>120</td>\n",
       "      <td>79</td>\n",
       "    </tr>\n",
       "    <tr>\n",
       "      <th>196</th>\n",
       "      <td>197</td>\n",
       "      <td>Female</td>\n",
       "      <td>45</td>\n",
       "      <td>126</td>\n",
       "      <td>28</td>\n",
       "    </tr>\n",
       "    <tr>\n",
       "      <th>197</th>\n",
       "      <td>198</td>\n",
       "      <td>Male</td>\n",
       "      <td>32</td>\n",
       "      <td>126</td>\n",
       "      <td>74</td>\n",
       "    </tr>\n",
       "    <tr>\n",
       "      <th>198</th>\n",
       "      <td>199</td>\n",
       "      <td>Male</td>\n",
       "      <td>32</td>\n",
       "      <td>137</td>\n",
       "      <td>18</td>\n",
       "    </tr>\n",
       "    <tr>\n",
       "      <th>199</th>\n",
       "      <td>200</td>\n",
       "      <td>Male</td>\n",
       "      <td>30</td>\n",
       "      <td>137</td>\n",
       "      <td>83</td>\n",
       "    </tr>\n",
       "  </tbody>\n",
       "</table>\n",
       "</div>"
      ],
      "text/plain": [
       "     CustomerID  Gender  Age  Annual Income (k$)  Spending Score (1-100)\n",
       "195         196  Female   35                 120                      79\n",
       "196         197  Female   45                 126                      28\n",
       "197         198    Male   32                 126                      74\n",
       "198         199    Male   32                 137                      18\n",
       "199         200    Male   30                 137                      83"
      ]
     },
     "execution_count": 2,
     "metadata": {},
     "output_type": "execute_result"
    }
   ],
   "source": [
    "cust = pd.read_csv('../input/customer-segmentation-tutorial-in-python/Mall_Customers.csv')\n",
    "cust.tail()"
   ]
  },
  {
   "cell_type": "code",
   "execution_count": 3,
   "id": "30cbd522",
   "metadata": {
    "execution": {
     "iopub.execute_input": "2022-08-28T10:42:48.373852Z",
     "iopub.status.busy": "2022-08-28T10:42:48.372932Z",
     "iopub.status.idle": "2022-08-28T10:42:48.393595Z",
     "shell.execute_reply": "2022-08-28T10:42:48.392259Z"
    },
    "papermill": {
     "duration": 0.031204,
     "end_time": "2022-08-28T10:42:48.396486",
     "exception": false,
     "start_time": "2022-08-28T10:42:48.365282",
     "status": "completed"
    },
    "tags": []
   },
   "outputs": [
    {
     "data": {
      "text/plain": [
       "CustomerID                1\n",
       "Gender                    1\n",
       "Age                       1\n",
       "Annual Income (k$)        1\n",
       "Spending Score (1-100)    1\n",
       "dtype: int64"
      ]
     },
     "execution_count": 3,
     "metadata": {},
     "output_type": "execute_result"
    }
   ],
   "source": [
    "# checking for null\n",
    "cust.isnull().nunique()"
   ]
  },
  {
   "cell_type": "code",
   "execution_count": 4,
   "id": "7987e199",
   "metadata": {
    "execution": {
     "iopub.execute_input": "2022-08-28T10:42:48.406982Z",
     "iopub.status.busy": "2022-08-28T10:42:48.406199Z",
     "iopub.status.idle": "2022-08-28T10:42:48.415245Z",
     "shell.execute_reply": "2022-08-28T10:42:48.413839Z"
    },
    "papermill": {
     "duration": 0.017647,
     "end_time": "2022-08-28T10:42:48.418214",
     "exception": false,
     "start_time": "2022-08-28T10:42:48.400567",
     "status": "completed"
    },
    "tags": []
   },
   "outputs": [
    {
     "data": {
      "text/plain": [
       "CustomerID                 int64\n",
       "Gender                    object\n",
       "Age                        int64\n",
       "Annual Income (k$)         int64\n",
       "Spending Score (1-100)     int64\n",
       "dtype: object"
      ]
     },
     "execution_count": 4,
     "metadata": {},
     "output_type": "execute_result"
    }
   ],
   "source": [
    "# checking value type of columns\n",
    "cust.dtypes"
   ]
  },
  {
   "cell_type": "code",
   "execution_count": 5,
   "id": "ac0023d2",
   "metadata": {
    "execution": {
     "iopub.execute_input": "2022-08-28T10:42:48.432528Z",
     "iopub.status.busy": "2022-08-28T10:42:48.432107Z",
     "iopub.status.idle": "2022-08-28T10:42:48.449437Z",
     "shell.execute_reply": "2022-08-28T10:42:48.448370Z"
    },
    "papermill": {
     "duration": 0.026443,
     "end_time": "2022-08-28T10:42:48.451611",
     "exception": false,
     "start_time": "2022-08-28T10:42:48.425168",
     "status": "completed"
    },
    "tags": []
   },
   "outputs": [
    {
     "data": {
      "text/plain": [
       "CustomerID                  int64\n",
       "Gender                    float64\n",
       "Age                         int64\n",
       "Annual Income (k$)          int64\n",
       "Spending Score (1-100)      int64\n",
       "dtype: object"
      ]
     },
     "execution_count": 5,
     "metadata": {},
     "output_type": "execute_result"
    }
   ],
   "source": [
    "# it seems we have only one categorial input data\n",
    "s = (cust.dtypes == 'object')\n",
    "object_cols = list(s[s].index)\n",
    "ordinal_encoder = OrdinalEncoder()\n",
    "cust[object_cols] = ordinal_encoder.fit_transform(cust[object_cols])\n",
    "cust.dtypes"
   ]
  },
  {
   "cell_type": "code",
   "execution_count": 6,
   "id": "3fdd0fd0",
   "metadata": {
    "execution": {
     "iopub.execute_input": "2022-08-28T10:42:48.461192Z",
     "iopub.status.busy": "2022-08-28T10:42:48.460768Z",
     "iopub.status.idle": "2022-08-28T10:42:48.470203Z",
     "shell.execute_reply": "2022-08-28T10:42:48.469154Z"
    },
    "papermill": {
     "duration": 0.01659,
     "end_time": "2022-08-28T10:42:48.472290",
     "exception": false,
     "start_time": "2022-08-28T10:42:48.455700",
     "status": "completed"
    },
    "tags": []
   },
   "outputs": [],
   "source": [
    "features = cust.drop('CustomerID', axis=1)\n",
    "x = features.values #returns a numpy array\n",
    "min_max_scaler = MinMaxScaler()\n",
    "feature_mtx = min_max_scaler.fit_transform(x)"
   ]
  },
  {
   "cell_type": "code",
   "execution_count": 7,
   "id": "391ff573",
   "metadata": {
    "execution": {
     "iopub.execute_input": "2022-08-28T10:42:48.482385Z",
     "iopub.status.busy": "2022-08-28T10:42:48.481536Z",
     "iopub.status.idle": "2022-08-28T10:42:48.719650Z",
     "shell.execute_reply": "2022-08-28T10:42:48.718849Z"
    },
    "papermill": {
     "duration": 0.245696,
     "end_time": "2022-08-28T10:42:48.722114",
     "exception": false,
     "start_time": "2022-08-28T10:42:48.476418",
     "status": "completed"
    },
    "tags": []
   },
   "outputs": [
    {
     "data": {
      "image/png": "[encoded data removed]",
      "text/plain": [
       "<Figure size 432x288 with 1 Axes>"
      ]
     },
     "metadata": {
      "needs_background": "light"
     },
     "output_type": "display_data"
    }
   ],
   "source": [
    "plt.scatter(feature_mtx[:, 1], feature_mtx[:, 3])\n",
    "plt.xlabel('Age', fontsize=18)\n",
    "plt.ylabel('Annual Income', fontsize=16)\n",
    "\n",
    "plt.show()"
   ]
  },
  {
   "cell_type": "code",
   "execution_count": 8,
   "id": "cb6d195f",
   "metadata": {
    "execution": {
     "iopub.execute_input": "2022-08-28T10:42:48.732933Z",
     "iopub.status.busy": "2022-08-28T10:42:48.732237Z",
     "iopub.status.idle": "2022-08-28T10:42:48.777149Z",
     "shell.execute_reply": "2022-08-28T10:42:48.776092Z"
    },
    "papermill": {
     "duration": 0.053636,
     "end_time": "2022-08-28T10:42:48.780104",
     "exception": false,
     "start_time": "2022-08-28T10:42:48.726468",
     "status": "completed"
    },
    "tags": []
   },
   "outputs": [
    {
     "data": {
      "text/html": [
       "<div>\n",
       "<style scoped>\n",
       "    .dataframe tbody tr th:only-of-type {\n",
       "        vertical-align: middle;\n",
       "    }\n",
       "\n",
       "    .dataframe tbody tr th {\n",
       "        vertical-align: top;\n",
       "    }\n",
       "\n",
       "    .dataframe thead th {\n",
       "        text-align: right;\n",
       "    }\n",
       "</style>\n",
       "<table border=\"1\" class=\"dataframe\">\n",
       "  <thead>\n",
       "    <tr style=\"text-align: right;\">\n",
       "      <th></th>\n",
       "      <th>CustomerID</th>\n",
       "      <th>Gender</th>\n",
       "      <th>Age</th>\n",
       "      <th>Annual Income (k$)</th>\n",
       "      <th>Spending Score (1-100)</th>\n",
       "      <th>customer seg by kmean</th>\n",
       "    </tr>\n",
       "  </thead>\n",
       "  <tbody>\n",
       "    <tr>\n",
       "      <th>0</th>\n",
       "      <td>1</td>\n",
       "      <td>1.0</td>\n",
       "      <td>19</td>\n",
       "      <td>15</td>\n",
       "      <td>39</td>\n",
       "      <td>0</td>\n",
       "    </tr>\n",
       "    <tr>\n",
       "      <th>1</th>\n",
       "      <td>2</td>\n",
       "      <td>1.0</td>\n",
       "      <td>21</td>\n",
       "      <td>15</td>\n",
       "      <td>81</td>\n",
       "      <td>0</td>\n",
       "    </tr>\n",
       "    <tr>\n",
       "      <th>2</th>\n",
       "      <td>3</td>\n",
       "      <td>0.0</td>\n",
       "      <td>20</td>\n",
       "      <td>16</td>\n",
       "      <td>6</td>\n",
       "      <td>1</td>\n",
       "    </tr>\n",
       "    <tr>\n",
       "      <th>3</th>\n",
       "      <td>4</td>\n",
       "      <td>0.0</td>\n",
       "      <td>23</td>\n",
       "      <td>16</td>\n",
       "      <td>77</td>\n",
       "      <td>1</td>\n",
       "    </tr>\n",
       "    <tr>\n",
       "      <th>4</th>\n",
       "      <td>5</td>\n",
       "      <td>0.0</td>\n",
       "      <td>31</td>\n",
       "      <td>17</td>\n",
       "      <td>40</td>\n",
       "      <td>1</td>\n",
       "    </tr>\n",
       "  </tbody>\n",
       "</table>\n",
       "</div>"
      ],
      "text/plain": [
       "   CustomerID  Gender  Age  Annual Income (k$)  Spending Score (1-100)  \\\n",
       "0           1     1.0   19                  15                      39   \n",
       "1           2     1.0   21                  15                      81   \n",
       "2           3     0.0   20                  16                       6   \n",
       "3           4     0.0   23                  16                      77   \n",
       "4           5     0.0   31                  17                      40   \n",
       "\n",
       "   customer seg by kmean  \n",
       "0                      0  \n",
       "1                      0  \n",
       "2                      1  \n",
       "3                      1  \n",
       "4                      1  "
      ]
     },
     "execution_count": 8,
     "metadata": {},
     "output_type": "execute_result"
    }
   ],
   "source": [
    "clusterNum = 3\n",
    "k_means = KMeans(init = \"k-means++\", n_clusters = clusterNum, n_init = 12)\n",
    "k_means.fit(feature_mtx)\n",
    "labels_km = k_means.labels_\n",
    "cust[\"customer seg by kmean\"] = labels_km\n",
    "cust.head()"
   ]
  },
  {
   "cell_type": "code",
   "execution_count": 9,
   "id": "6fa8a7ac",
   "metadata": {
    "execution": {
     "iopub.execute_input": "2022-08-28T10:42:48.792522Z",
     "iopub.status.busy": "2022-08-28T10:42:48.791436Z",
     "iopub.status.idle": "2022-08-28T10:42:48.858432Z",
     "shell.execute_reply": "2022-08-28T10:42:48.856724Z"
    },
    "papermill": {
     "duration": 0.077202,
     "end_time": "2022-08-28T10:42:48.862639",
     "exception": false,
     "start_time": "2022-08-28T10:42:48.785437",
     "status": "completed"
    },
    "tags": []
   },
   "outputs": [
    {
     "name": "stderr",
     "output_type": "stream",
     "text": [
      "/opt/conda/lib/python3.7/site-packages/sklearn/cluster/_agglomerative.py:542: ClusterWarning: scipy.cluster: The symmetric non-negative hollow observation matrix looks suspiciously like an uncondensed distance matrix\n",
      "  out = hierarchy.linkage(X, method=linkage, metric=affinity)\n"
     ]
    },
    {
     "data": {
      "text/html": [
       "<div>\n",
       "<style scoped>\n",
       "    .dataframe tbody tr th:only-of-type {\n",
       "        vertical-align: middle;\n",
       "    }\n",
       "\n",
       "    .dataframe tbody tr th {\n",
       "        vertical-align: top;\n",
       "    }\n",
       "\n",
       "    .dataframe thead th {\n",
       "        text-align: right;\n",
       "    }\n",
       "</style>\n",
       "<table border=\"1\" class=\"dataframe\">\n",
       "  <thead>\n",
       "    <tr style=\"text-align: right;\">\n",
       "      <th></th>\n",
       "      <th>CustomerID</th>\n",
       "      <th>Gender</th>\n",
       "      <th>Age</th>\n",
       "      <th>Annual Income (k$)</th>\n",
       "      <th>Spending Score (1-100)</th>\n",
       "      <th>customer seg by kmean</th>\n",
       "      <th>customer seg by hia</th>\n",
       "    </tr>\n",
       "  </thead>\n",
       "  <tbody>\n",
       "    <tr>\n",
       "      <th>0</th>\n",
       "      <td>1</td>\n",
       "      <td>1.0</td>\n",
       "      <td>19</td>\n",
       "      <td>15</td>\n",
       "      <td>39</td>\n",
       "      <td>0</td>\n",
       "      <td>1</td>\n",
       "    </tr>\n",
       "    <tr>\n",
       "      <th>1</th>\n",
       "      <td>2</td>\n",
       "      <td>1.0</td>\n",
       "      <td>21</td>\n",
       "      <td>15</td>\n",
       "      <td>81</td>\n",
       "      <td>0</td>\n",
       "      <td>1</td>\n",
       "    </tr>\n",
       "    <tr>\n",
       "      <th>2</th>\n",
       "      <td>3</td>\n",
       "      <td>0.0</td>\n",
       "      <td>20</td>\n",
       "      <td>16</td>\n",
       "      <td>6</td>\n",
       "      <td>1</td>\n",
       "      <td>0</td>\n",
       "    </tr>\n",
       "    <tr>\n",
       "      <th>3</th>\n",
       "      <td>4</td>\n",
       "      <td>0.0</td>\n",
       "      <td>23</td>\n",
       "      <td>16</td>\n",
       "      <td>77</td>\n",
       "      <td>1</td>\n",
       "      <td>0</td>\n",
       "    </tr>\n",
       "    <tr>\n",
       "      <th>4</th>\n",
       "      <td>5</td>\n",
       "      <td>0.0</td>\n",
       "      <td>31</td>\n",
       "      <td>17</td>\n",
       "      <td>40</td>\n",
       "      <td>1</td>\n",
       "      <td>0</td>\n",
       "    </tr>\n",
       "  </tbody>\n",
       "</table>\n",
       "</div>"
      ],
      "text/plain": [
       "   CustomerID  Gender  Age  Annual Income (k$)  Spending Score (1-100)  \\\n",
       "0           1     1.0   19                  15                      39   \n",
       "1           2     1.0   21                  15                      81   \n",
       "2           3     0.0   20                  16                       6   \n",
       "3           4     0.0   23                  16                      77   \n",
       "4           5     0.0   31                  17                      40   \n",
       "\n",
       "   customer seg by kmean  customer seg by hia  \n",
       "0                      0                    1  \n",
       "1                      0                    1  \n",
       "2                      1                    0  \n",
       "3                      1                    0  \n",
       "4                      1                    0  "
      ]
     },
     "execution_count": 9,
     "metadata": {},
     "output_type": "execute_result"
    }
   ],
   "source": [
    "dist_matrix = euclidean_distances(feature_mtx,feature_mtx)\n",
    "agglom = AgglomerativeClustering(n_clusters = 3, linkage = 'complete')\n",
    "agglom.fit(dist_matrix)\n",
    "labels_hia = agglom.labels_\n",
    "cust[\"customer seg by hia\"] = labels_hia\n",
    "cust.head()"
   ]
  },
  {
   "cell_type": "code",
   "execution_count": 10,
   "id": "efca132e",
   "metadata": {
    "execution": {
     "iopub.execute_input": "2022-08-28T10:42:48.890149Z",
     "iopub.status.busy": "2022-08-28T10:42:48.888295Z",
     "iopub.status.idle": "2022-08-28T10:42:48.925087Z",
     "shell.execute_reply": "2022-08-28T10:42:48.924254Z"
    },
    "papermill": {
     "duration": 0.053147,
     "end_time": "2022-08-28T10:42:48.927802",
     "exception": false,
     "start_time": "2022-08-28T10:42:48.874655",
     "status": "completed"
    },
    "tags": []
   },
   "outputs": [
    {
     "name": "stdout",
     "output_type": "stream",
     "text": [
      "2\n"
     ]
    },
    {
     "data": {
      "text/html": [
       "<div>\n",
       "<style scoped>\n",
       "    .dataframe tbody tr th:only-of-type {\n",
       "        vertical-align: middle;\n",
       "    }\n",
       "\n",
       "    .dataframe tbody tr th {\n",
       "        vertical-align: top;\n",
       "    }\n",
       "\n",
       "    .dataframe thead th {\n",
       "        text-align: right;\n",
       "    }\n",
       "</style>\n",
       "<table border=\"1\" class=\"dataframe\">\n",
       "  <thead>\n",
       "    <tr style=\"text-align: right;\">\n",
       "      <th></th>\n",
       "      <th>CustomerID</th>\n",
       "      <th>Gender</th>\n",
       "      <th>Age</th>\n",
       "      <th>Annual Income (k$)</th>\n",
       "      <th>Spending Score (1-100)</th>\n",
       "      <th>customer seg by kmean</th>\n",
       "      <th>customer seg by hia</th>\n",
       "      <th>customer seg by db</th>\n",
       "    </tr>\n",
       "  </thead>\n",
       "  <tbody>\n",
       "    <tr>\n",
       "      <th>0</th>\n",
       "      <td>1</td>\n",
       "      <td>1.0</td>\n",
       "      <td>19</td>\n",
       "      <td>15</td>\n",
       "      <td>39</td>\n",
       "      <td>0</td>\n",
       "      <td>1</td>\n",
       "      <td>0</td>\n",
       "    </tr>\n",
       "    <tr>\n",
       "      <th>1</th>\n",
       "      <td>2</td>\n",
       "      <td>1.0</td>\n",
       "      <td>21</td>\n",
       "      <td>15</td>\n",
       "      <td>81</td>\n",
       "      <td>0</td>\n",
       "      <td>1</td>\n",
       "      <td>0</td>\n",
       "    </tr>\n",
       "    <tr>\n",
       "      <th>2</th>\n",
       "      <td>3</td>\n",
       "      <td>0.0</td>\n",
       "      <td>20</td>\n",
       "      <td>16</td>\n",
       "      <td>6</td>\n",
       "      <td>1</td>\n",
       "      <td>0</td>\n",
       "      <td>1</td>\n",
       "    </tr>\n",
       "    <tr>\n",
       "      <th>3</th>\n",
       "      <td>4</td>\n",
       "      <td>0.0</td>\n",
       "      <td>23</td>\n",
       "      <td>16</td>\n",
       "      <td>77</td>\n",
       "      <td>1</td>\n",
       "      <td>0</td>\n",
       "      <td>1</td>\n",
       "    </tr>\n",
       "    <tr>\n",
       "      <th>4</th>\n",
       "      <td>5</td>\n",
       "      <td>0.0</td>\n",
       "      <td>31</td>\n",
       "      <td>17</td>\n",
       "      <td>40</td>\n",
       "      <td>1</td>\n",
       "      <td>0</td>\n",
       "      <td>1</td>\n",
       "    </tr>\n",
       "  </tbody>\n",
       "</table>\n",
       "</div>"
      ],
      "text/plain": [
       "   CustomerID  Gender  Age  Annual Income (k$)  Spending Score (1-100)  \\\n",
       "0           1     1.0   19                  15                      39   \n",
       "1           2     1.0   21                  15                      81   \n",
       "2           3     0.0   20                  16                       6   \n",
       "3           4     0.0   23                  16                      77   \n",
       "4           5     0.0   31                  17                      40   \n",
       "\n",
       "   customer seg by kmean  customer seg by hia  customer seg by db  \n",
       "0                      0                    1                   0  \n",
       "1                      0                    1                   0  \n",
       "2                      1                    0                   1  \n",
       "3                      1                    0                   1  \n",
       "4                      1                    0                   1  "
      ]
     },
     "execution_count": 10,
     "metadata": {},
     "output_type": "execute_result"
    }
   ],
   "source": [
    "db = DBSCAN(eps=0.4, min_samples=12)\n",
    "db.fit(feature_mtx)\n",
    "core_samples_mask = np.zeros_like(db.labels_, dtype=bool)\n",
    "core_samples_mask[db.core_sample_indices_] = True\n",
    "labels_db = db.labels_\n",
    "cust[\"customer seg by db\"]=labels_db\n",
    "realClusterNum=len(set(labels_db)) - (1 if -1 in labels_db else 0)\n",
    "print(realClusterNum)\n",
    "\n",
    "cust.head()"
   ]
  },
  {
   "cell_type": "code",
   "execution_count": null,
   "id": "5e3e93b4",
   "metadata": {
    "papermill": {
     "duration": 0.004973,
     "end_time": "2022-08-28T10:42:48.938345",
     "exception": false,
     "start_time": "2022-08-28T10:42:48.933372",
     "status": "completed"
    },
    "tags": []
   },
   "outputs": [],
   "source": []
  }
 ],
 "metadata": {
  "kernelspec": {
   "display_name": "Python 3",
   "language": "python",
   "name": "python3"
  },
  "language_info": {
   "codemirror_mode": {
    "name": "ipython",
    "version": 3
   },
   "file_extension": ".py",
   "mimetype": "text/x-python",
   "name": "python",
   "nbconvert_exporter": "python",
   "pygments_lexer": "ipython3",
   "version": "3.7.12"
  },
  "papermill": {
   "default_parameters": {},
   "duration": 11.760666,
   "end_time": "2022-08-28T10:42:49.665590",
   "environment_variables": {},
   "exception": null,
   "input_path": "__notebook__.ipynb",
   "output_path": "__notebook__.ipynb",
   "parameters": {},
   "start_time": "2022-08-28T10:42:37.904924",
   "version": "2.3.4"
  }
 },
 "nbformat": 4,
 "nbformat_minor": 5
}
